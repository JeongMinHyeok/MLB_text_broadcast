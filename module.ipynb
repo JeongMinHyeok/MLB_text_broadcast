{
 "cells": [
  {
   "cell_type": "code",
   "execution_count": 1,
   "id": "1d1da18e-ebf3-4396-b0d1-efaa1a08ffc1",
   "metadata": {},
   "outputs": [],
   "source": [
    "import statsapi"
   ]
  },
  {
   "cell_type": "code",
   "execution_count": 12,
   "id": "c16abdb1-778e-40e8-bdd5-1f6f8bc7e1a3",
   "metadata": {},
   "outputs": [],
   "source": [
    "from datetime import datetime, timedelta"
   ]
  },
  {
   "cell_type": "code",
   "execution_count": 64,
   "id": "8e62aa87-d298-431b-ae11-fb6f62bda447",
   "metadata": {},
   "outputs": [],
   "source": [
    "import statsapi\n",
    "from datetime import datetime, timedelta\n",
    "\n",
    "def TeamStandings(leagueId, date):\n",
    "    league = ''\n",
    "    if leagueId not in [103, 104, '']:\n",
    "        return '잘못된 리그 코드입니다.'\n",
    "    else:\n",
    "        if leagueId == 103:\n",
    "            league = '아메리칸리그(AL)'\n",
    "        elif leagueId == 104:\n",
    "            league = '내셔널리그(NL)'\n",
    "        else:\n",
    "            league = 'MLB 전체'\n",
    "            \n",
    "    if league == 'MLB 전체':\n",
    "        if date == '':\n",
    "            print(datetime.today().strftime('%Y년 %m월 %d일'), league , '순위입니다.')\n",
    "            return print(statsapi.standings( date=datetime.today().strftime('%m/%d/%Y')))\n",
    "        elif date[0] == '-':\n",
    "            print(date[1:],'일 전', (datetime.today()-timedelta(int(date[1:]))).strftime('%Y년 %m월 %d일'), league , '순위입니다.')\n",
    "            return print(statsapi.standings(date=(datetime.today()-timedelta(int(date[1:]))).strftime('%m/%d/%Y')))\n",
    "        else:\n",
    "            print('입력한 날짜의', league , '순위입니다.')\n",
    "            return print(statsapi.standings(date=date))\n",
    "    \n",
    "    else:\n",
    "        if date == '':\n",
    "            print(datetime.today().strftime('%Y년 %m월 %d일'), league , '순위입니다.')\n",
    "            return print(statsapi.standings(leagueId = leagueId, date=datetime.today().strftime('%m/%d/%Y')))\n",
    "        elif date[0] == '-':\n",
    "            print(date[1:],'일 전', (datetime.today()-timedelta(int(date[1:]))).strftime('%Y년 %m월 %d일'), league , '순위입니다.')\n",
    "            return print(statsapi.standings(leagueId = leagueId, date=(datetime.today()-timedelta(int(date[1:]))).strftime('%m/%d/%Y')))\n",
    "        else:\n",
    "            print('입력한 날짜의', league , '순위입니다.')\n",
    "            return print(statsapi.standings(leagueId = leagueId, date=date))"
   ]
  },
  {
   "cell_type": "code",
   "execution_count": 11,
   "id": "fbe42102-46e7-43ae-af5c-3f9c50958b82",
   "metadata": {},
   "outputs": [
    {
     "data": {
      "text/plain": [
       "'Toronto Blue Jays'"
      ]
     },
     "execution_count": 11,
     "metadata": {},
     "output_type": "execute_result"
    }
   ],
   "source": [
    "statsapi.lookup_team(141)[0]['name']"
   ]
  },
  {
   "cell_type": "code",
   "execution_count": 1,
   "id": "8aeb4ca1-e8b3-4da6-bcda-363d6c392a59",
   "metadata": {},
   "outputs": [],
   "source": [
    "import statsapi\n",
    "from datetime import datetime, timedelta\n",
    "\n",
    "def PlayerStandings(date):\n",
    "    while True:\n",
    "        print(\"원하는 메뉴를 선택하세요\")\n",
    "        print(\"========================\")\n",
    "        print(\"1. 검색가능한 스탯 보기\")\n",
    "        print(\"2. 선수기록 검색하기\")\n",
    "        menu = str(input(\"메뉴 선택 : \"))\n",
    "        \n",
    "        if menu == '1':\n",
    "            for i in statsapi.meta('leagueLeaderTypes'):\n",
    "                print(i['displayName'])\n",
    "            print('================================')\n",
    "            PlayerStandings(date)\n",
    "                \n",
    "        elif menu == '2':\n",
    "            player_name = str(input(\"선수 이름을 입력하세요(영문) : \"))\n",
    "            for player in statsapi.lookup_player(player_name):\n",
    "                print('Full name: {}, Position: {}, Team: {}'.format(player['fullName'], player['primaryPosition']['abbreviation'], statsapi.lookup_team(player['currentTeam']['id'])[0]['name']))"
   ]
  },
  {
   "cell_type": "code",
   "execution_count": 2,
   "id": "24e64483-60c1-4d99-b6fe-602a684ddf5b",
   "metadata": {},
   "outputs": [
    {
     "name": "stdout",
     "output_type": "stream",
     "text": [
      "원하는 메뉴를 선택하세요\n",
      "========================\n",
      "1. 검색가능한 스탯 보기\n",
      "2. 선수기록 검색하기\n"
     ]
    },
    {
     "name": "stdin",
     "output_type": "stream",
     "text": [
      "메뉴 선택 :  2\n",
      "선수 이름을 입력하세요(영문) :  walker\n"
     ]
    },
    {
     "name": "stdout",
     "output_type": "stream",
     "text": [
      "Full name: Walker Buehler, Position: P, Team: Los Angeles Dodgers\n",
      "Full name: Luke Jackson, Position: P, Team: Atlanta Braves\n",
      "Full name: Christian Walker, Position: 1B, Team: Arizona Diamondbacks\n",
      "Full name: Taijuan Walker, Position: P, Team: New York Mets\n",
      "원하는 메뉴를 선택하세요\n",
      "========================\n",
      "1. 검색가능한 스탯 보기\n",
      "2. 선수기록 검색하기\n"
     ]
    },
    {
     "name": "stdin",
     "output_type": "stream",
     "text": [
      "메뉴 선택 :  1\n"
     ]
    },
    {
     "name": "stdout",
     "output_type": "stream",
     "text": [
      "assists\n",
      "shutouts\n",
      "homeRuns\n",
      "sacrificeBunts\n",
      "sacrificeFlies\n",
      "runs\n",
      "groundoutToFlyoutRatio\n",
      "stolenBases\n",
      "battingAverage\n",
      "groundOuts\n",
      "numberOfPitches\n",
      "onBasePercentage\n",
      "caughtStealing\n",
      "groundIntoDoublePlays\n",
      "totalBases\n",
      "earnedRunAverage\n",
      "fieldingPercentage\n",
      "walksAndHitsPerInningPitched\n",
      "flyouts\n",
      "hitByPitches\n",
      "gamesPlayed\n",
      "walks\n",
      "sluggingPercentage\n",
      "onBasePlusSlugging\n",
      "runsBattedIn\n",
      "triples\n",
      "extraBaseHits\n",
      "hits\n",
      "atBats\n",
      "strikeouts\n",
      "doubles\n",
      "totalPlateAppearances\n",
      "intentionalWalks\n",
      "wins\n",
      "losses\n",
      "saves\n",
      "wildPitch\n",
      "airOuts\n",
      "balk\n",
      "blownSaves\n",
      "catcherEarnedRunAverage\n",
      "catchersInterference\n",
      "chances\n",
      "completeGames\n",
      "doublePlays\n",
      "earnedRun\n",
      "errors\n",
      "gamesFinished\n",
      "gamesStarted\n",
      "hitBatsman\n",
      "hitsPer9Inn\n",
      "holds\n",
      "innings\n",
      "inningsPitched\n",
      "outfieldAssists\n",
      "passedBalls\n",
      "pickoffs\n",
      "pitchesPerInning\n",
      "putOuts\n",
      "rangeFactorPerGame\n",
      "rangeFactorPer9Inn\n",
      "saveOpportunities\n",
      "stolenBasePercentage\n",
      "strikeoutsPer9Inn\n",
      "strikeoutWalkRatio\n",
      "throwingErrors\n",
      "totalBattersFaced\n",
      "triplePlays\n",
      "walksPer9Inn\n",
      "winPercentage\n",
      "================================\n",
      "원하는 메뉴를 선택하세요\n",
      "========================\n",
      "1. 검색가능한 스탯 보기\n",
      "2. 선수기록 검색하기\n"
     ]
    },
    {
     "ename": "KeyboardInterrupt",
     "evalue": "Interrupted by user",
     "output_type": "error",
     "traceback": [
      "\u001b[1;31m---------------------------------------------------------------------------\u001b[0m",
      "\u001b[1;31mKeyboardInterrupt\u001b[0m                         Traceback (most recent call last)",
      "\u001b[1;32m~\\AppData\\Local\\Temp/ipykernel_16744/3182242042.py\u001b[0m in \u001b[0;36m<module>\u001b[1;34m\u001b[0m\n\u001b[1;32m----> 1\u001b[1;33m \u001b[0mPlayerStandings\u001b[0m\u001b[1;33m(\u001b[0m\u001b[1;34m'21/07/2020'\u001b[0m\u001b[1;33m)\u001b[0m\u001b[1;33m\u001b[0m\u001b[1;33m\u001b[0m\u001b[0m\n\u001b[0m",
      "\u001b[1;32m~\\AppData\\Local\\Temp/ipykernel_16744/1694339941.py\u001b[0m in \u001b[0;36mPlayerStandings\u001b[1;34m(date)\u001b[0m\n\u001b[0;32m     14\u001b[0m                 \u001b[0mprint\u001b[0m\u001b[1;33m(\u001b[0m\u001b[0mi\u001b[0m\u001b[1;33m[\u001b[0m\u001b[1;34m'displayName'\u001b[0m\u001b[1;33m]\u001b[0m\u001b[1;33m)\u001b[0m\u001b[1;33m\u001b[0m\u001b[1;33m\u001b[0m\u001b[0m\n\u001b[0;32m     15\u001b[0m             \u001b[0mprint\u001b[0m\u001b[1;33m(\u001b[0m\u001b[1;34m'================================'\u001b[0m\u001b[1;33m)\u001b[0m\u001b[1;33m\u001b[0m\u001b[1;33m\u001b[0m\u001b[0m\n\u001b[1;32m---> 16\u001b[1;33m             \u001b[0mPlayerStandings\u001b[0m\u001b[1;33m(\u001b[0m\u001b[0mdate\u001b[0m\u001b[1;33m)\u001b[0m\u001b[1;33m\u001b[0m\u001b[1;33m\u001b[0m\u001b[0m\n\u001b[0m\u001b[0;32m     17\u001b[0m \u001b[1;33m\u001b[0m\u001b[0m\n\u001b[0;32m     18\u001b[0m         \u001b[1;32melif\u001b[0m \u001b[0mmenu\u001b[0m \u001b[1;33m==\u001b[0m \u001b[1;34m'2'\u001b[0m\u001b[1;33m:\u001b[0m\u001b[1;33m\u001b[0m\u001b[1;33m\u001b[0m\u001b[0m\n",
      "\u001b[1;32m~\\AppData\\Local\\Temp/ipykernel_16744/1694339941.py\u001b[0m in \u001b[0;36mPlayerStandings\u001b[1;34m(date)\u001b[0m\n\u001b[0;32m      8\u001b[0m         \u001b[0mprint\u001b[0m\u001b[1;33m(\u001b[0m\u001b[1;34m\"1. 검색가능한 스탯 보기\"\u001b[0m\u001b[1;33m)\u001b[0m\u001b[1;33m\u001b[0m\u001b[1;33m\u001b[0m\u001b[0m\n\u001b[0;32m      9\u001b[0m         \u001b[0mprint\u001b[0m\u001b[1;33m(\u001b[0m\u001b[1;34m\"2. 선수기록 검색하기\"\u001b[0m\u001b[1;33m)\u001b[0m\u001b[1;33m\u001b[0m\u001b[1;33m\u001b[0m\u001b[0m\n\u001b[1;32m---> 10\u001b[1;33m         \u001b[0mmenu\u001b[0m \u001b[1;33m=\u001b[0m \u001b[0mstr\u001b[0m\u001b[1;33m(\u001b[0m\u001b[0minput\u001b[0m\u001b[1;33m(\u001b[0m\u001b[1;34m\"메뉴 선택 : \"\u001b[0m\u001b[1;33m)\u001b[0m\u001b[1;33m)\u001b[0m\u001b[1;33m\u001b[0m\u001b[1;33m\u001b[0m\u001b[0m\n\u001b[0m\u001b[0;32m     11\u001b[0m \u001b[1;33m\u001b[0m\u001b[0m\n\u001b[0;32m     12\u001b[0m         \u001b[1;32mif\u001b[0m \u001b[0mmenu\u001b[0m \u001b[1;33m==\u001b[0m \u001b[1;34m'1'\u001b[0m\u001b[1;33m:\u001b[0m\u001b[1;33m\u001b[0m\u001b[1;33m\u001b[0m\u001b[0m\n",
      "\u001b[1;32m~\\.conda\\envs\\baseball\\lib\\site-packages\\ipykernel\\kernelbase.py\u001b[0m in \u001b[0;36mraw_input\u001b[1;34m(self, prompt)\u001b[0m\n\u001b[0;32m   1004\u001b[0m                 \u001b[1;34m\"raw_input was called, but this frontend does not support input requests.\"\u001b[0m\u001b[1;33m\u001b[0m\u001b[1;33m\u001b[0m\u001b[0m\n\u001b[0;32m   1005\u001b[0m             )\n\u001b[1;32m-> 1006\u001b[1;33m         return self._input_request(\n\u001b[0m\u001b[0;32m   1007\u001b[0m             \u001b[0mstr\u001b[0m\u001b[1;33m(\u001b[0m\u001b[0mprompt\u001b[0m\u001b[1;33m)\u001b[0m\u001b[1;33m,\u001b[0m\u001b[1;33m\u001b[0m\u001b[1;33m\u001b[0m\u001b[0m\n\u001b[0;32m   1008\u001b[0m             \u001b[0mself\u001b[0m\u001b[1;33m.\u001b[0m\u001b[0m_parent_ident\u001b[0m\u001b[1;33m[\u001b[0m\u001b[1;34m\"shell\"\u001b[0m\u001b[1;33m]\u001b[0m\u001b[1;33m,\u001b[0m\u001b[1;33m\u001b[0m\u001b[1;33m\u001b[0m\u001b[0m\n",
      "\u001b[1;32m~\\.conda\\envs\\baseball\\lib\\site-packages\\ipykernel\\kernelbase.py\u001b[0m in \u001b[0;36m_input_request\u001b[1;34m(self, prompt, ident, parent, password)\u001b[0m\n\u001b[0;32m   1049\u001b[0m             \u001b[1;32mexcept\u001b[0m \u001b[0mKeyboardInterrupt\u001b[0m\u001b[1;33m:\u001b[0m\u001b[1;33m\u001b[0m\u001b[1;33m\u001b[0m\u001b[0m\n\u001b[0;32m   1050\u001b[0m                 \u001b[1;31m# re-raise KeyboardInterrupt, to truncate traceback\u001b[0m\u001b[1;33m\u001b[0m\u001b[1;33m\u001b[0m\u001b[0m\n\u001b[1;32m-> 1051\u001b[1;33m                 \u001b[1;32mraise\u001b[0m \u001b[0mKeyboardInterrupt\u001b[0m\u001b[1;33m(\u001b[0m\u001b[1;34m\"Interrupted by user\"\u001b[0m\u001b[1;33m)\u001b[0m \u001b[1;32mfrom\u001b[0m \u001b[1;32mNone\u001b[0m\u001b[1;33m\u001b[0m\u001b[1;33m\u001b[0m\u001b[0m\n\u001b[0m\u001b[0;32m   1052\u001b[0m             \u001b[1;32mexcept\u001b[0m \u001b[0mException\u001b[0m\u001b[1;33m:\u001b[0m\u001b[1;33m\u001b[0m\u001b[1;33m\u001b[0m\u001b[0m\n\u001b[0;32m   1053\u001b[0m                 \u001b[0mself\u001b[0m\u001b[1;33m.\u001b[0m\u001b[0mlog\u001b[0m\u001b[1;33m.\u001b[0m\u001b[0mwarning\u001b[0m\u001b[1;33m(\u001b[0m\u001b[1;34m\"Invalid Message:\"\u001b[0m\u001b[1;33m,\u001b[0m \u001b[0mexc_info\u001b[0m\u001b[1;33m=\u001b[0m\u001b[1;32mTrue\u001b[0m\u001b[1;33m)\u001b[0m\u001b[1;33m\u001b[0m\u001b[1;33m\u001b[0m\u001b[0m\n",
      "\u001b[1;31mKeyboardInterrupt\u001b[0m: Interrupted by user"
     ]
    }
   ],
   "source": [
    "PlayerStandings('21/07/2020')"
   ]
  },
  {
   "cell_type": "code",
   "execution_count": null,
   "id": "c8711600-b1fb-4f12-b153-2777a898fe8e",
   "metadata": {},
   "outputs": [],
   "source": []
  }
 ],
 "metadata": {
  "kernelspec": {
   "display_name": "Python 3 (ipykernel)",
   "language": "python",
   "name": "python3"
  },
  "language_info": {
   "codemirror_mode": {
    "name": "ipython",
    "version": 3
   },
   "file_extension": ".py",
   "mimetype": "text/x-python",
   "name": "python",
   "nbconvert_exporter": "python",
   "pygments_lexer": "ipython3",
   "version": "3.9.7"
  }
 },
 "nbformat": 4,
 "nbformat_minor": 5
}
