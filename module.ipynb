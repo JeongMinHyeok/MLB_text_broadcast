{
 "cells": [
  {
   "cell_type": "code",
   "execution_count": 1,
   "id": "1d1da18e-ebf3-4396-b0d1-efaa1a08ffc1",
   "metadata": {},
   "outputs": [],
   "source": [
    "import statsapi"
   ]
  },
  {
   "cell_type": "code",
   "execution_count": 12,
   "id": "c16abdb1-778e-40e8-bdd5-1f6f8bc7e1a3",
   "metadata": {},
   "outputs": [],
   "source": [
    "from datetime import datetime, timedelta"
   ]
  },
  {
   "cell_type": "code",
   "execution_count": 64,
   "id": "8e62aa87-d298-431b-ae11-fb6f62bda447",
   "metadata": {},
   "outputs": [],
   "source": [
    "import statsapi\n",
    "from datetime import datetime, timedelta\n",
    "\n",
    "def TeamStandings(leagueId, date):\n",
    "    league = ''\n",
    "    if leagueId not in [103, 104, '']:\n",
    "        return '잘못된 리그 코드입니다.'\n",
    "    else:\n",
    "        if leagueId == 103:\n",
    "            league = '아메리칸리그(AL)'\n",
    "        elif leagueId == 104:\n",
    "            league = '내셔널리그(NL)'\n",
    "        else:\n",
    "            league = 'MLB 전체'\n",
    "            \n",
    "    if league == 'MLB 전체':\n",
    "        if date == '':\n",
    "            print(datetime.today().strftime('%Y년 %m월 %d일'), league , '순위입니다.')\n",
    "            return print(statsapi.standings( date=datetime.today().strftime('%m/%d/%Y')))\n",
    "        elif date[0] == '-':\n",
    "            print(date[1:],'일 전', (datetime.today()-timedelta(int(date[1:]))).strftime('%Y년 %m월 %d일'), league , '순위입니다.')\n",
    "            return print(statsapi.standings(date=(datetime.today()-timedelta(int(date[1:]))).strftime('%m/%d/%Y')))\n",
    "        else:\n",
    "            print('입력한 날짜의', league , '순위입니다.')\n",
    "            return print(statsapi.standings(date=date))\n",
    "    \n",
    "    else:\n",
    "        if date == '':\n",
    "            print(datetime.today().strftime('%Y년 %m월 %d일'), league , '순위입니다.')\n",
    "            return print(statsapi.standings(leagueId = leagueId, date=datetime.today().strftime('%m/%d/%Y')))\n",
    "        elif date[0] == '-':\n",
    "            print(date[1:],'일 전', (datetime.today()-timedelta(int(date[1:]))).strftime('%Y년 %m월 %d일'), league , '순위입니다.')\n",
    "            return print(statsapi.standings(leagueId = leagueId, date=(datetime.today()-timedelta(int(date[1:]))).strftime('%m/%d/%Y')))\n",
    "        else:\n",
    "            print('입력한 날짜의', league , '순위입니다.')\n",
    "            return print(statsapi.standings(leagueId = leagueId, date=date))"
   ]
  },
  {
   "cell_type": "code",
   "execution_count": 11,
   "id": "fbe42102-46e7-43ae-af5c-3f9c50958b82",
   "metadata": {},
   "outputs": [
    {
     "data": {
      "text/plain": [
       "'Toronto Blue Jays'"
      ]
     },
     "execution_count": 11,
     "metadata": {},
     "output_type": "execute_result"
    }
   ],
   "source": [
    "statsapi.lookup_team(141)[0]['name']"
   ]
  },
  {
   "cell_type": "code",
   "execution_count": 19,
   "id": "51d67c02-6780-4253-8667-ee10d3c744a2",
   "metadata": {},
   "outputs": [
    {
     "ename": "NameError",
     "evalue": "name 'player' is not defined",
     "output_type": "error",
     "traceback": [
      "\u001b[1;31m---------------------------------------------------------------------------\u001b[0m",
      "\u001b[1;31mNameError\u001b[0m                                 Traceback (most recent call last)",
      "\u001b[1;32m~\\AppData\\Local\\Temp/ipykernel_19064/1302645215.py\u001b[0m in \u001b[0;36m<module>\u001b[1;34m\u001b[0m\n\u001b[1;32m----> 1\u001b[1;33m \u001b[0mplayer\u001b[0m\u001b[1;33m[\u001b[0m\u001b[1;34m'currentTeam'\u001b[0m\u001b[1;33m]\u001b[0m\u001b[1;33m\u001b[0m\u001b[1;33m\u001b[0m\u001b[0m\n\u001b[0m",
      "\u001b[1;31mNameError\u001b[0m: name 'player' is not defined"
     ]
    }
   ],
   "source": [
    "player['currentTeam']"
   ]
  },
  {
   "cell_type": "code",
   "execution_count": 22,
   "id": "8aeb4ca1-e8b3-4da6-bcda-363d6c392a59",
   "metadata": {},
   "outputs": [],
   "source": [
    "import statsapi\n",
    "from datetime import datetime, timedelta\n",
    "\n",
    "def PlayerStandings(date):\n",
    "    while True:\n",
    "        print(\"원하는 메뉴를 선택하세요\")\n",
    "        print(\"========================\")\n",
    "        print(\"1. 검색가능한 스탯 보기\")\n",
    "        print(\"2. 선수기록 검색하기\")\n",
    "        menu = str(input(\"메뉴 선택 : \"))\n",
    "        \n",
    "        if menu == '1':\n",
    "            for i in statsapi.meta('leagueLeaderTypes'):\n",
    "                print(i['displayName'])\n",
    "            PlayerStandings(date)\n",
    "                \n",
    "        elif menu == '2':\n",
    "            player_name = str(input(\"선수 이름을 입력하세요(영문) : \"))\n",
    "            for player in statsapi.lookup_player(player_name):\n",
    "                print('Full name: {}, Position: {}, Team: {}'.format(player['fullName'], player['primaryPosition']['abbreviation'], player['currentTeam']['id']))"
   ]
  },
  {
   "cell_type": "code",
   "execution_count": null,
   "id": "24e64483-60c1-4d99-b6fe-602a684ddf5b",
   "metadata": {},
   "outputs": [
    {
     "name": "stdout",
     "output_type": "stream",
     "text": [
      "원하는 메뉴를 선택하세요\n",
      "========================\n",
      "1. 검색가능한 스탯 보기\n",
      "2. 선수기록 검색하기\n"
     ]
    },
    {
     "name": "stdin",
     "output_type": "stream",
     "text": [
      "메뉴 선택 :  2\n",
      "선수 이름을 입력하세요(영문) :  walker\n"
     ]
    },
    {
     "name": "stdout",
     "output_type": "stream",
     "text": [
      "Full name: Walker Buehler, Position: P, Team: 119\n",
      "Full name: Luke Jackson, Position: P, Team: 144\n",
      "Full name: Christian Walker, Position: 1B, Team: 109\n",
      "Full name: Taijuan Walker, Position: P, Team: 121\n",
      "원하는 메뉴를 선택하세요\n",
      "========================\n",
      "1. 검색가능한 스탯 보기\n",
      "2. 선수기록 검색하기\n"
     ]
    }
   ],
   "source": [
    "PlayerStandings('21/07/2020')"
   ]
  },
  {
   "cell_type": "code",
   "execution_count": null,
   "id": "c8711600-b1fb-4f12-b153-2777a898fe8e",
   "metadata": {},
   "outputs": [],
   "source": []
  }
 ],
 "metadata": {
  "kernelspec": {
   "display_name": "Python 3 (ipykernel)",
   "language": "python",
   "name": "python3"
  },
  "language_info": {
   "codemirror_mode": {
    "name": "ipython",
    "version": 3
   },
   "file_extension": ".py",
   "mimetype": "text/x-python",
   "name": "python",
   "nbconvert_exporter": "python",
   "pygments_lexer": "ipython3",
   "version": "3.9.7"
  }
 },
 "nbformat": 4,
 "nbformat_minor": 5
}
